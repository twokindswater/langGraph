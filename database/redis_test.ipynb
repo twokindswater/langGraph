{
 "cells": [
  {
   "cell_type": "code",
   "id": "initial_id",
   "metadata": {
    "collapsed": true,
    "ExecuteTime": {
     "end_time": "2024-10-12T02:09:00.143549Z",
     "start_time": "2024-10-12T02:08:59.380962Z"
    }
   },
   "source": "%pip install redis",
   "outputs": [
    {
     "name": "stdout",
     "output_type": "stream",
     "text": [
      "Requirement already satisfied: redis in /home/js/anaconda3/envs/langGraph/lib/python3.11/site-packages (5.1.1)\r\n",
      "Note: you may need to restart the kernel to use updated packages.\n"
     ]
    }
   ],
   "execution_count": 1
  },
  {
   "metadata": {
    "ExecuteTime": {
     "end_time": "2024-10-12T02:09:16.587463Z",
     "start_time": "2024-10-12T02:09:16.464748Z"
    }
   },
   "cell_type": "code",
   "source": [
    "import redis\n",
    "\n",
    "r = redis.Redis(host='localhost', port=6379, db=0)"
   ],
   "id": "d6c443a9181ea391",
   "outputs": [],
   "execution_count": 1
  },
  {
   "metadata": {
    "ExecuteTime": {
     "end_time": "2024-10-12T02:13:08.928388Z",
     "start_time": "2024-10-12T02:13:08.925219Z"
    }
   },
   "cell_type": "code",
   "source": "r.set('my_key', 'my_value', ex=5)",
   "id": "b47414f2463761f0",
   "outputs": [
    {
     "data": {
      "text/plain": [
       "True"
      ]
     },
     "execution_count": 16,
     "metadata": {},
     "output_type": "execute_result"
    }
   ],
   "execution_count": 16
  },
  {
   "metadata": {
    "ExecuteTime": {
     "end_time": "2024-10-12T02:13:13.430743Z",
     "start_time": "2024-10-12T02:13:13.427755Z"
    }
   },
   "cell_type": "code",
   "source": "r.ttl('my_key')",
   "id": "5873b20e03bfeb08",
   "outputs": [
    {
     "data": {
      "text/plain": [
       "0"
      ]
     },
     "execution_count": 20,
     "metadata": {},
     "output_type": "execute_result"
    }
   ],
   "execution_count": 20
  },
  {
   "metadata": {
    "ExecuteTime": {
     "end_time": "2024-10-12T02:13:37.955174Z",
     "start_time": "2024-10-12T02:13:37.952179Z"
    }
   },
   "cell_type": "code",
   "source": [
    "res = r.get('my_key')\n",
    "if res is not None:\n",
    "    print(f\"res: {res.decode('utf-8')}\")\n",
    "else:\n",
    "    print(\"res is None\")"
   ],
   "id": "1ec1829d4f383051",
   "outputs": [
    {
     "name": "stdout",
     "output_type": "stream",
     "text": [
      "res is None\n"
     ]
    }
   ],
   "execution_count": 22
  },
  {
   "metadata": {},
   "cell_type": "code",
   "outputs": [],
   "execution_count": null,
   "source": "",
   "id": "5bc4e2eb85a4f334"
  }
 ],
 "metadata": {
  "kernelspec": {
   "display_name": "Python 3",
   "language": "python",
   "name": "python3"
  },
  "language_info": {
   "codemirror_mode": {
    "name": "ipython",
    "version": 2
   },
   "file_extension": ".py",
   "mimetype": "text/x-python",
   "name": "python",
   "nbconvert_exporter": "python",
   "pygments_lexer": "ipython2",
   "version": "2.7.6"
  }
 },
 "nbformat": 4,
 "nbformat_minor": 5
}

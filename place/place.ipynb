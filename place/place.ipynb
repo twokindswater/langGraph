{
 "cells": [
  {
   "cell_type": "code",
   "id": "initial_id",
   "metadata": {
    "collapsed": true,
    "ExecuteTime": {
     "end_time": "2024-10-23T07:22:42.295533Z",
     "start_time": "2024-10-23T07:22:42.184641Z"
    }
   },
   "source": [
    "import pandas as pd\n",
    "\n",
    "# read csv \n",
    "df = pd.read_csv('../data/KC_CLTUR_ACTVTY_ACTFCLTY_2023.csv')\n",
    "len(df)"
   ],
   "outputs": [
    {
     "data": {
      "text/plain": [
       "24537"
      ]
     },
     "execution_count": 26,
     "metadata": {},
     "output_type": "execute_result"
    }
   ],
   "execution_count": 26
  },
  {
   "metadata": {
    "ExecuteTime": {
     "end_time": "2024-10-23T07:22:42.778407Z",
     "start_time": "2024-10-23T07:22:42.771113Z"
    }
   },
   "cell_type": "code",
   "source": [
    "df = df[df['PET_POSBL_AT'] == 'Y']\n",
    "len(df)"
   ],
   "id": "6156778e2aebb4cc",
   "outputs": [
    {
     "data": {
      "text/plain": [
       "1117"
      ]
     },
     "execution_count": 27,
     "metadata": {},
     "output_type": "execute_result"
    }
   ],
   "execution_count": 27
  },
  {
   "metadata": {
    "ExecuteTime": {
     "end_time": "2024-10-23T07:22:45.682284Z",
     "start_time": "2024-10-23T07:22:45.679320Z"
    }
   },
   "cell_type": "code",
   "source": [
    "df.columns = df.columns.str.strip()\n",
    "df.columns"
   ],
   "id": "c74d3a992621bbae",
   "outputs": [
    {
     "data": {
      "text/plain": [
       "Index(['FCLTY_NM', 'CTGRY_ONE_NM', 'CTGRY_TWO_NM', 'CTGRY_THREE_NM',\n",
       "       'CTPRVN_NM', 'SIGNGU_NM', 'LEGALDONG_NM', 'LI_NM', 'LNBR_NO', 'ROAD_NM',\n",
       "       'BULD_NO', 'LC_LA', 'LC_LO', 'ZIP_NO', 'RDNMADR_NM', 'LNM_ADDR',\n",
       "       'TEL_NO', 'HMPG_URL', 'WIFI_HOLD_AT', 'PET_POSBL_AT', 'PRKPLCE_EXST_AT',\n",
       "       'MEE_SLT_AT', 'LAST_UPDT_DE'],\n",
       "      dtype='object')"
      ]
     },
     "execution_count": 28,
     "metadata": {},
     "output_type": "execute_result"
    }
   ],
   "execution_count": 28
  },
  {
   "metadata": {
    "ExecuteTime": {
     "end_time": "2024-10-23T07:23:06.671416Z",
     "start_time": "2024-10-23T07:23:06.660064Z"
    }
   },
   "cell_type": "code",
   "source": [
    "# delete same value in RDNMADR_NM columns\n",
    "df = df.drop_duplicates(subset='RDNMADR_NM')\n",
    "df"
   ],
   "id": "d49abd51d0dd5f2d",
   "outputs": [
    {
     "data": {
      "text/plain": [
       "                FCLTY_NM CTGRY_ONE_NM CTGRY_TWO_NM CTGRY_THREE_NM CTPRVN_NM  \\\n",
       "16               강릉실내낚시터     레저/체육/공원       지역레저시설            낚시터       강원도   \n",
       "87            전스 프렌즈 스크린     레저/체육/공원       지역레저시설          스크린골프       강원도   \n",
       "129             주문진관광유람선     레저/체육/공원       대형레저시설            유람선       강원도   \n",
       "171          한글골프아카데미연습장     레저/체육/공원       지역레저시설          스크린골프       강원도   \n",
       "368               배꼽수상스키     레저/체육/공원       대형레저시설           수상스키       강원도   \n",
       "...                  ...          ...          ...            ...       ...   \n",
       "24462             충주호관광선     레저/체육/공원       대형레저시설            유람선      충청북도   \n",
       "24503               우림정원     레저/체육/공원       대형레저시설            유람선      충청북도   \n",
       "24512  서충주신도시 생활체육공원 풋살장     레저/체육/공원       지역체육시설            풋살장      충청북도   \n",
       "24523         탄금호일렉트릭유람선     레저/체육/공원       대형레저시설            유람선      충청북도   \n",
       "24530                탄금대     레저/체육/공원       대형레저시설            유람선      충청북도   \n",
       "\n",
       "      SIGNGU_NM LEGALDONG_NM LI_NM    LNBR_NO ROAD_NM  ... ZIP_NO  \\\n",
       "16          강릉시          포남동   NaN    1116 번지    강릉대로  ...  25492   \n",
       "87          강릉시          포남동   NaN   898-1 번지    용지각길  ...  25548   \n",
       "129         강릉시         주문진읍   교항리  184-92 번지     해안로  ...  25418   \n",
       "171         고성군          토성면   신평리     218 번지    물안골길  ...  24763   \n",
       "368         양구군          양구읍  상무룡리    1087 번지   간척월명로  ...  24516   \n",
       "...         ...          ...   ...        ...     ...  ...    ...   \n",
       "24462       충주시          동량면   화암리   11-12 번지     지등로  ...  27323   \n",
       "24503       충주시          엄정면   율능리   583-2 번지     삼실길  ...  27314   \n",
       "24512       충주시          주덕읍   화곡리    1191 번지  기업도시3로  ...  27465   \n",
       "24523       충주시         중앙탑면   탑평리     137 번지    중앙탑길  ...  27447   \n",
       "24530       충주시          칠금동   NaN     1-1 번지   탄금대안길  ...  27440   \n",
       "\n",
       "                     RDNMADR_NM                        LNM_ADDR      TEL_NO  \\\n",
       "16           강원도 강릉시 강릉대로 337-2                강원도 강릉시 포남동 1116         NaN   \n",
       "87              강원도 강릉시 용지각길 14               강원도 강릉시 포남동 898-1  0336461110   \n",
       "129       강원도 강릉시 주문진읍 해안로 1730   강원도 강릉시 주문진읍 교항리 184-92 강릉시수협         NaN   \n",
       "171         강원도 고성군 토성면 물안골길 84             강원도 고성군 토성면 신평리 218         NaN   \n",
       "368    강원도 양구군 양구읍 간척월명로 1559-7           강원도 양구군 양구읍 상무룡리 1087         NaN   \n",
       "...                         ...                             ...         ...   \n",
       "24462      충청북도 충주시 동량면 지등로 882  충청북도 충주시 동량면 화암리 산11-12 충주호선착장  0438517400   \n",
       "24503       충청북도 충주시 엄정면 삼실길 42          충청북도 충주시 엄정면 율능리 583-2         NaN   \n",
       "24512   충청북도 충주시 주덕읍 기업도시3로 150           충청북도 충주시 주덕읍 화곡리 1191  0438503904   \n",
       "24523  충청북도 충주시 중앙탑면 중앙탑길 168-6           충청북도 충주시 중앙탑면 탑평리 137  0438525989   \n",
       "24530         충청북도 충주시 탄금대안길 33               충청북도 충주시 칠금동 산1-1  0438482246   \n",
       "\n",
       "                                                HMPG_URL WIFI_HOLD_AT  \\\n",
       "16                                                   NaN            N   \n",
       "87     https://instagram.com/js_screen_golf?utm_mediu...            Y   \n",
       "129                                                  NaN            Y   \n",
       "171                                                  NaN            Y   \n",
       "368                                                  NaN            N   \n",
       "...                                                  ...          ...   \n",
       "24462                              http://chungjuho.com/            N   \n",
       "24503                                                NaN            N   \n",
       "24512          https://www.chungju.go.kr/rev/reserve/192            N   \n",
       "24523                   http://www.tangeumhocruise.co.kr            N   \n",
       "24530                                                NaN            N   \n",
       "\n",
       "      PET_POSBL_AT PRKPLCE_EXST_AT MEE_SLT_AT LAST_UPDT_DE  \n",
       "16               Y               Y          Y     20221104  \n",
       "87               Y               Y          Y     20221104  \n",
       "129              Y               Y          N     20221104  \n",
       "171              Y               Y          Y     20221104  \n",
       "368              Y               Y          N     20221104  \n",
       "...            ...             ...        ...          ...  \n",
       "24462            Y               Y          Y     20221104  \n",
       "24503            Y               Y          Y     20221104  \n",
       "24512            Y               Y          Y     20221104  \n",
       "24523            Y               Y          Y     20221104  \n",
       "24530            Y               Y          Y     20221104  \n",
       "\n",
       "[996 rows x 23 columns]"
      ],
      "text/html": [
       "<div>\n",
       "<style scoped>\n",
       "    .dataframe tbody tr th:only-of-type {\n",
       "        vertical-align: middle;\n",
       "    }\n",
       "\n",
       "    .dataframe tbody tr th {\n",
       "        vertical-align: top;\n",
       "    }\n",
       "\n",
       "    .dataframe thead th {\n",
       "        text-align: right;\n",
       "    }\n",
       "</style>\n",
       "<table border=\"1\" class=\"dataframe\">\n",
       "  <thead>\n",
       "    <tr style=\"text-align: right;\">\n",
       "      <th></th>\n",
       "      <th>FCLTY_NM</th>\n",
       "      <th>CTGRY_ONE_NM</th>\n",
       "      <th>CTGRY_TWO_NM</th>\n",
       "      <th>CTGRY_THREE_NM</th>\n",
       "      <th>CTPRVN_NM</th>\n",
       "      <th>SIGNGU_NM</th>\n",
       "      <th>LEGALDONG_NM</th>\n",
       "      <th>LI_NM</th>\n",
       "      <th>LNBR_NO</th>\n",
       "      <th>ROAD_NM</th>\n",
       "      <th>...</th>\n",
       "      <th>ZIP_NO</th>\n",
       "      <th>RDNMADR_NM</th>\n",
       "      <th>LNM_ADDR</th>\n",
       "      <th>TEL_NO</th>\n",
       "      <th>HMPG_URL</th>\n",
       "      <th>WIFI_HOLD_AT</th>\n",
       "      <th>PET_POSBL_AT</th>\n",
       "      <th>PRKPLCE_EXST_AT</th>\n",
       "      <th>MEE_SLT_AT</th>\n",
       "      <th>LAST_UPDT_DE</th>\n",
       "    </tr>\n",
       "  </thead>\n",
       "  <tbody>\n",
       "    <tr>\n",
       "      <th>16</th>\n",
       "      <td>강릉실내낚시터</td>\n",
       "      <td>레저/체육/공원</td>\n",
       "      <td>지역레저시설</td>\n",
       "      <td>낚시터</td>\n",
       "      <td>강원도</td>\n",
       "      <td>강릉시</td>\n",
       "      <td>포남동</td>\n",
       "      <td>NaN</td>\n",
       "      <td>1116 번지</td>\n",
       "      <td>강릉대로</td>\n",
       "      <td>...</td>\n",
       "      <td>25492</td>\n",
       "      <td>강원도 강릉시 강릉대로 337-2</td>\n",
       "      <td>강원도 강릉시 포남동 1116</td>\n",
       "      <td>NaN</td>\n",
       "      <td>NaN</td>\n",
       "      <td>N</td>\n",
       "      <td>Y</td>\n",
       "      <td>Y</td>\n",
       "      <td>Y</td>\n",
       "      <td>20221104</td>\n",
       "    </tr>\n",
       "    <tr>\n",
       "      <th>87</th>\n",
       "      <td>전스 프렌즈 스크린</td>\n",
       "      <td>레저/체육/공원</td>\n",
       "      <td>지역레저시설</td>\n",
       "      <td>스크린골프</td>\n",
       "      <td>강원도</td>\n",
       "      <td>강릉시</td>\n",
       "      <td>포남동</td>\n",
       "      <td>NaN</td>\n",
       "      <td>898-1 번지</td>\n",
       "      <td>용지각길</td>\n",
       "      <td>...</td>\n",
       "      <td>25548</td>\n",
       "      <td>강원도 강릉시 용지각길 14</td>\n",
       "      <td>강원도 강릉시 포남동 898-1</td>\n",
       "      <td>0336461110</td>\n",
       "      <td>https://instagram.com/js_screen_golf?utm_mediu...</td>\n",
       "      <td>Y</td>\n",
       "      <td>Y</td>\n",
       "      <td>Y</td>\n",
       "      <td>Y</td>\n",
       "      <td>20221104</td>\n",
       "    </tr>\n",
       "    <tr>\n",
       "      <th>129</th>\n",
       "      <td>주문진관광유람선</td>\n",
       "      <td>레저/체육/공원</td>\n",
       "      <td>대형레저시설</td>\n",
       "      <td>유람선</td>\n",
       "      <td>강원도</td>\n",
       "      <td>강릉시</td>\n",
       "      <td>주문진읍</td>\n",
       "      <td>교항리</td>\n",
       "      <td>184-92 번지</td>\n",
       "      <td>해안로</td>\n",
       "      <td>...</td>\n",
       "      <td>25418</td>\n",
       "      <td>강원도 강릉시 주문진읍 해안로 1730</td>\n",
       "      <td>강원도 강릉시 주문진읍 교항리 184-92 강릉시수협</td>\n",
       "      <td>NaN</td>\n",
       "      <td>NaN</td>\n",
       "      <td>Y</td>\n",
       "      <td>Y</td>\n",
       "      <td>Y</td>\n",
       "      <td>N</td>\n",
       "      <td>20221104</td>\n",
       "    </tr>\n",
       "    <tr>\n",
       "      <th>171</th>\n",
       "      <td>한글골프아카데미연습장</td>\n",
       "      <td>레저/체육/공원</td>\n",
       "      <td>지역레저시설</td>\n",
       "      <td>스크린골프</td>\n",
       "      <td>강원도</td>\n",
       "      <td>고성군</td>\n",
       "      <td>토성면</td>\n",
       "      <td>신평리</td>\n",
       "      <td>218 번지</td>\n",
       "      <td>물안골길</td>\n",
       "      <td>...</td>\n",
       "      <td>24763</td>\n",
       "      <td>강원도 고성군 토성면 물안골길 84</td>\n",
       "      <td>강원도 고성군 토성면 신평리 218</td>\n",
       "      <td>NaN</td>\n",
       "      <td>NaN</td>\n",
       "      <td>Y</td>\n",
       "      <td>Y</td>\n",
       "      <td>Y</td>\n",
       "      <td>Y</td>\n",
       "      <td>20221104</td>\n",
       "    </tr>\n",
       "    <tr>\n",
       "      <th>368</th>\n",
       "      <td>배꼽수상스키</td>\n",
       "      <td>레저/체육/공원</td>\n",
       "      <td>대형레저시설</td>\n",
       "      <td>수상스키</td>\n",
       "      <td>강원도</td>\n",
       "      <td>양구군</td>\n",
       "      <td>양구읍</td>\n",
       "      <td>상무룡리</td>\n",
       "      <td>1087 번지</td>\n",
       "      <td>간척월명로</td>\n",
       "      <td>...</td>\n",
       "      <td>24516</td>\n",
       "      <td>강원도 양구군 양구읍 간척월명로 1559-7</td>\n",
       "      <td>강원도 양구군 양구읍 상무룡리 1087</td>\n",
       "      <td>NaN</td>\n",
       "      <td>NaN</td>\n",
       "      <td>N</td>\n",
       "      <td>Y</td>\n",
       "      <td>Y</td>\n",
       "      <td>N</td>\n",
       "      <td>20221104</td>\n",
       "    </tr>\n",
       "    <tr>\n",
       "      <th>...</th>\n",
       "      <td>...</td>\n",
       "      <td>...</td>\n",
       "      <td>...</td>\n",
       "      <td>...</td>\n",
       "      <td>...</td>\n",
       "      <td>...</td>\n",
       "      <td>...</td>\n",
       "      <td>...</td>\n",
       "      <td>...</td>\n",
       "      <td>...</td>\n",
       "      <td>...</td>\n",
       "      <td>...</td>\n",
       "      <td>...</td>\n",
       "      <td>...</td>\n",
       "      <td>...</td>\n",
       "      <td>...</td>\n",
       "      <td>...</td>\n",
       "      <td>...</td>\n",
       "      <td>...</td>\n",
       "      <td>...</td>\n",
       "      <td>...</td>\n",
       "    </tr>\n",
       "    <tr>\n",
       "      <th>24462</th>\n",
       "      <td>충주호관광선</td>\n",
       "      <td>레저/체육/공원</td>\n",
       "      <td>대형레저시설</td>\n",
       "      <td>유람선</td>\n",
       "      <td>충청북도</td>\n",
       "      <td>충주시</td>\n",
       "      <td>동량면</td>\n",
       "      <td>화암리</td>\n",
       "      <td>11-12 번지</td>\n",
       "      <td>지등로</td>\n",
       "      <td>...</td>\n",
       "      <td>27323</td>\n",
       "      <td>충청북도 충주시 동량면 지등로 882</td>\n",
       "      <td>충청북도 충주시 동량면 화암리 산11-12 충주호선착장</td>\n",
       "      <td>0438517400</td>\n",
       "      <td>http://chungjuho.com/</td>\n",
       "      <td>N</td>\n",
       "      <td>Y</td>\n",
       "      <td>Y</td>\n",
       "      <td>Y</td>\n",
       "      <td>20221104</td>\n",
       "    </tr>\n",
       "    <tr>\n",
       "      <th>24503</th>\n",
       "      <td>우림정원</td>\n",
       "      <td>레저/체육/공원</td>\n",
       "      <td>대형레저시설</td>\n",
       "      <td>유람선</td>\n",
       "      <td>충청북도</td>\n",
       "      <td>충주시</td>\n",
       "      <td>엄정면</td>\n",
       "      <td>율능리</td>\n",
       "      <td>583-2 번지</td>\n",
       "      <td>삼실길</td>\n",
       "      <td>...</td>\n",
       "      <td>27314</td>\n",
       "      <td>충청북도 충주시 엄정면 삼실길 42</td>\n",
       "      <td>충청북도 충주시 엄정면 율능리 583-2</td>\n",
       "      <td>NaN</td>\n",
       "      <td>NaN</td>\n",
       "      <td>N</td>\n",
       "      <td>Y</td>\n",
       "      <td>Y</td>\n",
       "      <td>Y</td>\n",
       "      <td>20221104</td>\n",
       "    </tr>\n",
       "    <tr>\n",
       "      <th>24512</th>\n",
       "      <td>서충주신도시 생활체육공원 풋살장</td>\n",
       "      <td>레저/체육/공원</td>\n",
       "      <td>지역체육시설</td>\n",
       "      <td>풋살장</td>\n",
       "      <td>충청북도</td>\n",
       "      <td>충주시</td>\n",
       "      <td>주덕읍</td>\n",
       "      <td>화곡리</td>\n",
       "      <td>1191 번지</td>\n",
       "      <td>기업도시3로</td>\n",
       "      <td>...</td>\n",
       "      <td>27465</td>\n",
       "      <td>충청북도 충주시 주덕읍 기업도시3로 150</td>\n",
       "      <td>충청북도 충주시 주덕읍 화곡리 1191</td>\n",
       "      <td>0438503904</td>\n",
       "      <td>https://www.chungju.go.kr/rev/reserve/192</td>\n",
       "      <td>N</td>\n",
       "      <td>Y</td>\n",
       "      <td>Y</td>\n",
       "      <td>Y</td>\n",
       "      <td>20221104</td>\n",
       "    </tr>\n",
       "    <tr>\n",
       "      <th>24523</th>\n",
       "      <td>탄금호일렉트릭유람선</td>\n",
       "      <td>레저/체육/공원</td>\n",
       "      <td>대형레저시설</td>\n",
       "      <td>유람선</td>\n",
       "      <td>충청북도</td>\n",
       "      <td>충주시</td>\n",
       "      <td>중앙탑면</td>\n",
       "      <td>탑평리</td>\n",
       "      <td>137 번지</td>\n",
       "      <td>중앙탑길</td>\n",
       "      <td>...</td>\n",
       "      <td>27447</td>\n",
       "      <td>충청북도 충주시 중앙탑면 중앙탑길 168-6</td>\n",
       "      <td>충청북도 충주시 중앙탑면 탑평리 137</td>\n",
       "      <td>0438525989</td>\n",
       "      <td>http://www.tangeumhocruise.co.kr</td>\n",
       "      <td>N</td>\n",
       "      <td>Y</td>\n",
       "      <td>Y</td>\n",
       "      <td>Y</td>\n",
       "      <td>20221104</td>\n",
       "    </tr>\n",
       "    <tr>\n",
       "      <th>24530</th>\n",
       "      <td>탄금대</td>\n",
       "      <td>레저/체육/공원</td>\n",
       "      <td>대형레저시설</td>\n",
       "      <td>유람선</td>\n",
       "      <td>충청북도</td>\n",
       "      <td>충주시</td>\n",
       "      <td>칠금동</td>\n",
       "      <td>NaN</td>\n",
       "      <td>1-1 번지</td>\n",
       "      <td>탄금대안길</td>\n",
       "      <td>...</td>\n",
       "      <td>27440</td>\n",
       "      <td>충청북도 충주시 탄금대안길 33</td>\n",
       "      <td>충청북도 충주시 칠금동 산1-1</td>\n",
       "      <td>0438482246</td>\n",
       "      <td>NaN</td>\n",
       "      <td>N</td>\n",
       "      <td>Y</td>\n",
       "      <td>Y</td>\n",
       "      <td>Y</td>\n",
       "      <td>20221104</td>\n",
       "    </tr>\n",
       "  </tbody>\n",
       "</table>\n",
       "<p>996 rows × 23 columns</p>\n",
       "</div>"
      ]
     },
     "execution_count": 29,
     "metadata": {},
     "output_type": "execute_result"
    }
   ],
   "execution_count": 29
  },
  {
   "metadata": {
    "ExecuteTime": {
     "end_time": "2024-10-23T07:23:09.706060Z",
     "start_time": "2024-10-23T07:23:09.703608Z"
    }
   },
   "cell_type": "code",
   "source": "len(df)",
   "id": "31c6ee231d9773bc",
   "outputs": [
    {
     "data": {
      "text/plain": [
       "996"
      ]
     },
     "execution_count": 30,
     "metadata": {},
     "output_type": "execute_result"
    }
   ],
   "execution_count": 30
  },
  {
   "metadata": {
    "ExecuteTime": {
     "end_time": "2024-10-23T07:16:22.394081Z",
     "start_time": "2024-10-23T07:16:22.388531Z"
    }
   },
   "cell_type": "code",
   "source": "len(df[df.duplicated()])",
   "id": "3ac49419255d5849",
   "outputs": [
    {
     "data": {
      "text/plain": [
       "107"
      ]
     },
     "execution_count": 8,
     "metadata": {},
     "output_type": "execute_result"
    }
   ],
   "execution_count": 8
  },
  {
   "metadata": {
    "ExecuteTime": {
     "end_time": "2024-10-23T07:16:24.679545Z",
     "start_time": "2024-10-23T07:16:24.673795Z"
    }
   },
   "cell_type": "code",
   "source": [
    "# delete duplicates\n",
    "df = df.drop_duplicates()\n",
    "len(df)"
   ],
   "id": "c9b65618ab8978f5",
   "outputs": [
    {
     "data": {
      "text/plain": [
       "1010"
      ]
     },
     "execution_count": 9,
     "metadata": {},
     "output_type": "execute_result"
    }
   ],
   "execution_count": 9
  },
  {
   "metadata": {
    "ExecuteTime": {
     "end_time": "2024-10-28T02:05:06.588728Z",
     "start_time": "2024-10-28T02:05:06.585775Z"
    }
   },
   "cell_type": "code",
   "source": [
    "behavior_dict = {\n",
    "    'laying':10,\n",
    "    'barking':20\n",
    "}\n",
    "behavior_dict"
   ],
   "id": "572c58b65563e6dc",
   "outputs": [
    {
     "data": {
      "text/plain": [
       "{'laying': 10, 'barking': 20}"
      ]
     },
     "execution_count": 31,
     "metadata": {},
     "output_type": "execute_result"
    }
   ],
   "execution_count": 31
  },
  {
   "metadata": {
    "ExecuteTime": {
     "end_time": "2024-10-28T02:05:30.884885Z",
     "start_time": "2024-10-28T02:05:30.881859Z"
    }
   },
   "cell_type": "code",
   "source": [
    "if 'barking' in behavior_dict:\n",
    "    del behavior_dict['barking']\n",
    "behavior_dict"
   ],
   "id": "25aba78a2766ee0d",
   "outputs": [
    {
     "data": {
      "text/plain": [
       "{'laying': 10}"
      ]
     },
     "execution_count": 32,
     "metadata": {},
     "output_type": "execute_result"
    }
   ],
   "execution_count": 32
  },
  {
   "metadata": {},
   "cell_type": "code",
   "outputs": [],
   "execution_count": null,
   "source": "",
   "id": "40da2cdb07a4a86b"
  }
 ],
 "metadata": {
  "kernelspec": {
   "display_name": "Python 3",
   "language": "python",
   "name": "python3"
  },
  "language_info": {
   "codemirror_mode": {
    "name": "ipython",
    "version": 2
   },
   "file_extension": ".py",
   "mimetype": "text/x-python",
   "name": "python",
   "nbconvert_exporter": "python",
   "pygments_lexer": "ipython2",
   "version": "2.7.6"
  }
 },
 "nbformat": 4,
 "nbformat_minor": 5
}

{
 "cells": [
  {
   "cell_type": "code",
   "id": "initial_id",
   "metadata": {
    "collapsed": true,
    "ExecuteTime": {
     "end_time": "2024-10-21T08:24:06.384417Z",
     "start_time": "2024-10-21T08:24:05.727826Z"
    }
   },
   "source": [
    "import folium\n",
    "import pandas as pd\n",
    "import json\n",
    "\n",
    "with open(\"../data/route.json\", \"r\") as f:\n",
    "    data = json.loads(f.read())\n",
    "\n",
    "# 데이터 프레임으로 변환\n",
    "locations = []\n",
    "for loc in data[\"locations\"]:\n",
    "    latitude = float(loc[\"latitude\"])\n",
    "    longitude = float(loc[\"longitude\"])\n",
    "    locations.append([latitude, longitude])\n",
    "\n",
    "df = pd.DataFrame(locations, columns=[\"latitude\", \"longitude\"])\n",
    "\n",
    "# 맵 생성\n",
    "m = folium.Map(location=[df[\"latitude\"].mean(), df[\"longitude\"].mean()], zoom_start=17)\n",
    "\n",
    "radius = 5\n",
    "\n",
    "# 포인트 추가\n",
    "prev_timestamp = None\n",
    "for index, row in df.iterrows():\n",
    "    folium.CircleMarker(\n",
    "        location=(row[\"latitude\"], row[\"longitude\"]),\n",
    "        radius=radius,\n",
    "        color='blue',\n",
    "        fill=True,\n",
    "        fill_color='blue',\n",
    "        fill_opacity=0.3,\n",
    "    ).add_to(m)\n",
    "\n",
    "# 라인 추가\n",
    "points = []\n",
    "for index, row in df.iterrows():\n",
    "    points.append((row[\"latitude\"], row[\"longitude\"]))\n",
    "    \n",
    "folium.PolyLine(points, color=\"red\", weight=2.5, opacity=1).add_to(m)\n",
    "\n",
    "# 맵 저장\n",
    "m.save(\"route.html\")"
   ],
   "outputs": [
    {
     "ename": "TypeError",
     "evalue": "string indices must be integers, not 'str'",
     "output_type": "error",
     "traceback": [
      "\u001B[0;31m---------------------------------------------------------------------------\u001B[0m",
      "\u001B[0;31mTypeError\u001B[0m                                 Traceback (most recent call last)",
      "Cell \u001B[0;32mIn[1], line 11\u001B[0m\n\u001B[1;32m      9\u001B[0m locations \u001B[38;5;241m=\u001B[39m []\n\u001B[1;32m     10\u001B[0m \u001B[38;5;28;01mfor\u001B[39;00m loc \u001B[38;5;129;01min\u001B[39;00m data[\u001B[38;5;124m\"\u001B[39m\u001B[38;5;124mlocations\u001B[39m\u001B[38;5;124m\"\u001B[39m]:\n\u001B[0;32m---> 11\u001B[0m     latitude \u001B[38;5;241m=\u001B[39m \u001B[38;5;28mfloat\u001B[39m(loc[\u001B[38;5;124m\"\u001B[39m\u001B[38;5;124mlatitude\u001B[39m\u001B[38;5;124m\"\u001B[39m])\n\u001B[1;32m     12\u001B[0m     longitude \u001B[38;5;241m=\u001B[39m \u001B[38;5;28mfloat\u001B[39m(loc[\u001B[38;5;124m\"\u001B[39m\u001B[38;5;124mlongitude\u001B[39m\u001B[38;5;124m\"\u001B[39m])\n\u001B[1;32m     13\u001B[0m     locations\u001B[38;5;241m.\u001B[39mappend([latitude, longitude])\n",
      "\u001B[0;31mTypeError\u001B[0m: string indices must be integers, not 'str'"
     ]
    }
   ],
   "execution_count": 1
  },
  {
   "metadata": {},
   "cell_type": "code",
   "outputs": [],
   "execution_count": null,
   "source": [
    "\n",
    "\n"
   ],
   "id": "3bf56328e9819622"
  }
 ],
 "metadata": {
  "kernelspec": {
   "display_name": "Python 3",
   "language": "python",
   "name": "python3"
  },
  "language_info": {
   "codemirror_mode": {
    "name": "ipython",
    "version": 2
   },
   "file_extension": ".py",
   "mimetype": "text/x-python",
   "name": "python",
   "nbconvert_exporter": "python",
   "pygments_lexer": "ipython2",
   "version": "2.7.6"
  }
 },
 "nbformat": 4,
 "nbformat_minor": 5
}

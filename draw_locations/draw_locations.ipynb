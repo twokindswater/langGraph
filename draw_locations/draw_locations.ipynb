{
 "cells": [
  {
   "cell_type": "code",
   "id": "initial_id",
   "metadata": {
    "collapsed": true,
    "ExecuteTime": {
     "end_time": "2024-09-30T06:21:40.838822Z",
     "start_time": "2024-09-30T06:21:40.075660Z"
    }
   },
   "source": "%pip install folium",
   "outputs": [
    {
     "name": "stdout",
     "output_type": "stream",
     "text": [
      "Requirement already satisfied: folium in /home/js/anaconda3/envs/langGraph/lib/python3.11/site-packages (0.17.0)\r\n",
      "Requirement already satisfied: branca>=0.6.0 in /home/js/anaconda3/envs/langGraph/lib/python3.11/site-packages (from folium) (0.8.0)\r\n",
      "Requirement already satisfied: jinja2>=2.9 in /home/js/anaconda3/envs/langGraph/lib/python3.11/site-packages (from folium) (3.1.4)\r\n",
      "Requirement already satisfied: numpy in /home/js/anaconda3/envs/langGraph/lib/python3.11/site-packages (from folium) (1.26.4)\r\n",
      "Requirement already satisfied: requests in /home/js/anaconda3/envs/langGraph/lib/python3.11/site-packages (from folium) (2.32.3)\r\n",
      "Requirement already satisfied: xyzservices in /home/js/anaconda3/envs/langGraph/lib/python3.11/site-packages (from folium) (2024.9.0)\r\n",
      "Requirement already satisfied: MarkupSafe>=2.0 in /home/js/anaconda3/envs/langGraph/lib/python3.11/site-packages (from jinja2>=2.9->folium) (2.1.3)\r\n",
      "Requirement already satisfied: charset-normalizer<4,>=2 in /home/js/anaconda3/envs/langGraph/lib/python3.11/site-packages (from requests->folium) (3.3.2)\r\n",
      "Requirement already satisfied: idna<4,>=2.5 in /home/js/anaconda3/envs/langGraph/lib/python3.11/site-packages (from requests->folium) (3.8)\r\n",
      "Requirement already satisfied: urllib3<3,>=1.21.1 in /home/js/anaconda3/envs/langGraph/lib/python3.11/site-packages (from requests->folium) (2.2.2)\r\n",
      "Requirement already satisfied: certifi>=2017.4.17 in /home/js/anaconda3/envs/langGraph/lib/python3.11/site-packages (from requests->folium) (2024.8.30)\r\n",
      "Note: you may need to restart the kernel to use updated packages.\n"
     ]
    }
   ],
   "execution_count": 2
  },
  {
   "metadata": {
    "ExecuteTime": {
     "end_time": "2024-09-30T06:42:42.151172Z",
     "start_time": "2024-09-30T06:42:36.334249Z"
    }
   },
   "cell_type": "code",
   "source": "%pip install matplotlib",
   "id": "612ed9e4e7c9b9f",
   "outputs": [
    {
     "name": "stdout",
     "output_type": "stream",
     "text": [
      "Collecting matplotlib\r\n",
      "  Downloading matplotlib-3.9.2-cp311-cp311-manylinux_2_17_x86_64.manylinux2014_x86_64.whl.metadata (11 kB)\r\n",
      "Collecting contourpy>=1.0.1 (from matplotlib)\r\n",
      "  Downloading contourpy-1.3.0-cp311-cp311-manylinux_2_17_x86_64.manylinux2014_x86_64.whl.metadata (5.4 kB)\r\n",
      "Collecting cycler>=0.10 (from matplotlib)\r\n",
      "  Using cached cycler-0.12.1-py3-none-any.whl.metadata (3.8 kB)\r\n",
      "Collecting fonttools>=4.22.0 (from matplotlib)\r\n",
      "  Downloading fonttools-4.54.1-cp311-cp311-manylinux_2_17_x86_64.manylinux2014_x86_64.whl.metadata (163 kB)\r\n",
      "Collecting kiwisolver>=1.3.1 (from matplotlib)\r\n",
      "  Downloading kiwisolver-1.4.7-cp311-cp311-manylinux_2_17_x86_64.manylinux2014_x86_64.whl.metadata (6.3 kB)\r\n",
      "Requirement already satisfied: numpy>=1.23 in /home/js/anaconda3/envs/langGraph/lib/python3.11/site-packages (from matplotlib) (1.26.4)\r\n",
      "Requirement already satisfied: packaging>=20.0 in /home/js/anaconda3/envs/langGraph/lib/python3.11/site-packages (from matplotlib) (23.2)\r\n",
      "Requirement already satisfied: pillow>=8 in /home/js/anaconda3/envs/langGraph/lib/python3.11/site-packages (from matplotlib) (10.4.0)\r\n",
      "Requirement already satisfied: pyparsing>=2.3.1 in /home/js/anaconda3/envs/langGraph/lib/python3.11/site-packages (from matplotlib) (3.1.4)\r\n",
      "Requirement already satisfied: python-dateutil>=2.7 in /home/js/anaconda3/envs/langGraph/lib/python3.11/site-packages (from matplotlib) (2.9.0.post0)\r\n",
      "Requirement already satisfied: six>=1.5 in /home/js/anaconda3/envs/langGraph/lib/python3.11/site-packages (from python-dateutil>=2.7->matplotlib) (1.16.0)\r\n",
      "Downloading matplotlib-3.9.2-cp311-cp311-manylinux_2_17_x86_64.manylinux2014_x86_64.whl (8.3 MB)\r\n",
      "\u001B[2K   \u001B[90m━━━━━━━━━━━━━━━━━━━━━━━━━━━━━━━━━━━━━━━━\u001B[0m \u001B[32m8.3/8.3 MB\u001B[0m \u001B[31m26.9 MB/s\u001B[0m eta \u001B[36m0:00:00\u001B[0m00:01\u001B[0m\r\n",
      "\u001B[?25hDownloading contourpy-1.3.0-cp311-cp311-manylinux_2_17_x86_64.manylinux2014_x86_64.whl (323 kB)\r\n",
      "Using cached cycler-0.12.1-py3-none-any.whl (8.3 kB)\r\n",
      "Downloading fonttools-4.54.1-cp311-cp311-manylinux_2_17_x86_64.manylinux2014_x86_64.whl (4.9 MB)\r\n",
      "\u001B[2K   \u001B[90m━━━━━━━━━━━━━━━━━━━━━━━━━━━━━━━━━━━━━━━━\u001B[0m \u001B[32m4.9/4.9 MB\u001B[0m \u001B[31m21.4 MB/s\u001B[0m eta \u001B[36m0:00:00\u001B[0ma \u001B[36m0:00:01\u001B[0m\r\n",
      "\u001B[?25hDownloading kiwisolver-1.4.7-cp311-cp311-manylinux_2_17_x86_64.manylinux2014_x86_64.whl (1.4 MB)\r\n",
      "\u001B[2K   \u001B[90m━━━━━━━━━━━━━━━━━━━━━━━━━━━━━━━━━━━━━━━━\u001B[0m \u001B[32m1.4/1.4 MB\u001B[0m \u001B[31m9.4 MB/s\u001B[0m eta \u001B[36m0:00:00\u001B[0m\r\n",
      "\u001B[?25hInstalling collected packages: kiwisolver, fonttools, cycler, contourpy, matplotlib\r\n",
      "Successfully installed contourpy-1.3.0 cycler-0.12.1 fonttools-4.54.1 kiwisolver-1.4.7 matplotlib-3.9.2\r\n",
      "Note: you may need to restart the kernel to use updated packages.\n"
     ]
    }
   ],
   "execution_count": 8
  },
  {
   "metadata": {
    "ExecuteTime": {
     "end_time": "2024-10-29T01:27:10.365685Z",
     "start_time": "2024-10-29T01:27:10.357259Z"
    }
   },
   "cell_type": "code",
   "source": [
    "import json\n",
    "\n",
    "with open(\"../data/시몽_23.json\", \"r\") as f:\n",
    "    data = json.loads(f.read())\n",
    "    import pandas as pd\n",
    "from datetime import datetime\n",
    "\n",
    "# 데이터 프레임으로 변환\n",
    "locations = []\n",
    "for loc in data[\"locations\"]:\n",
    "    timestamp, coord = loc.split(\": \")\n",
    "    latitude, longitude = map(float, coord.split(\", \"))\n",
    "    timestamp = datetime.strptime(timestamp, '%H%M%S')\n",
    "    locations.append((timestamp, latitude, longitude))\n",
    "\n",
    "df = pd.DataFrame(locations, columns=[\"timestamp\", \"latitude\", \"longitude\"])\n",
    "df.head(2)"
   ],
   "id": "13d45ae9e5e271b3",
   "outputs": [
    {
     "data": {
      "text/plain": [
       "            timestamp   latitude   longitude\n",
       "0 1900-01-01 20:38:50  37.494662  127.130208\n",
       "1 1900-01-01 20:39:21  37.494610  127.130316"
      ],
      "text/html": [
       "<div>\n",
       "<style scoped>\n",
       "    .dataframe tbody tr th:only-of-type {\n",
       "        vertical-align: middle;\n",
       "    }\n",
       "\n",
       "    .dataframe tbody tr th {\n",
       "        vertical-align: top;\n",
       "    }\n",
       "\n",
       "    .dataframe thead th {\n",
       "        text-align: right;\n",
       "    }\n",
       "</style>\n",
       "<table border=\"1\" class=\"dataframe\">\n",
       "  <thead>\n",
       "    <tr style=\"text-align: right;\">\n",
       "      <th></th>\n",
       "      <th>timestamp</th>\n",
       "      <th>latitude</th>\n",
       "      <th>longitude</th>\n",
       "    </tr>\n",
       "  </thead>\n",
       "  <tbody>\n",
       "    <tr>\n",
       "      <th>0</th>\n",
       "      <td>1900-01-01 20:38:50</td>\n",
       "      <td>37.494662</td>\n",
       "      <td>127.130208</td>\n",
       "    </tr>\n",
       "    <tr>\n",
       "      <th>1</th>\n",
       "      <td>1900-01-01 20:39:21</td>\n",
       "      <td>37.494610</td>\n",
       "      <td>127.130316</td>\n",
       "    </tr>\n",
       "  </tbody>\n",
       "</table>\n",
       "</div>"
      ]
     },
     "execution_count": 40,
     "metadata": {},
     "output_type": "execute_result"
    }
   ],
   "execution_count": 40
  },
  {
   "metadata": {
    "ExecuteTime": {
     "end_time": "2024-10-29T01:27:11.546907Z",
     "start_time": "2024-10-29T01:27:11.500250Z"
    }
   },
   "cell_type": "code",
   "source": [
    "import folium\n",
    "\n",
    "m = folium.Map(location=[df[\"latitude\"].mean(), df[\"longitude\"].mean()], zoom_start=13)\n",
    "\n",
    "points = []\n",
    "for index, row in df.iterrows():\n",
    "    points.append([row[\"latitude\"], row[\"longitude\"]])\n",
    "\n",
    "# 첫 번째 점 강조\n",
    "first_row = df.iloc[0]\n",
    "folium.CircleMarker(\n",
    "    location=(first_row[\"latitude\"], first_row[\"longitude\"]),\n",
    "    radius=10,\n",
    "    color='blue',\n",
    "    fill=True,\n",
    "    fill_color='blue',\n",
    "    popup=df.iloc[0][\"timestamp\"].strftime(\"%H:%M:%S\") + \" (start)\",\n",
    "    fill_opacity=1.0\n",
    ").add_to(m)\n",
    "\n",
    "# 포인트 추가\n",
    "prev_timestamp = None\n",
    "for index, row in df.iterrows():\n",
    "    folium.CircleMarker(\n",
    "        location=(row[\"latitude\"], row[\"longitude\"]),\n",
    "        radius=5,\n",
    "        color='red',\n",
    "        popup=row[\"timestamp\"].strftime(\"%H:%M:%S\"),\n",
    "        fill=True,\n",
    "        fill_color='red',\n",
    "        fill_opacity=0.3,\n",
    "    ).add_to(m)\n",
    "    \n",
    "# 마지막 점 강조\n",
    "last_row = df.iloc[-1]\n",
    "folium.CircleMarker(\n",
    "    location=(last_row[\"latitude\"], last_row[\"longitude\"]),\n",
    "    radius=10,\n",
    "    color='green',\n",
    "    fill=True,\n",
    "    fill_color='green',\n",
    "    popup=df.iloc[-1][\"timestamp\"].strftime(\"%H:%M:%S\") + \" (end)\",\n",
    "    fill_opacity=1.0\n",
    ").add_to(m)\n",
    "\n",
    "# 경로 추가\n",
    "folium.PolyLine(points, color=\"red\", weight=2.5, opacity=1).add_to(m)\n",
    "\n",
    "# 맵 저장\n",
    "m.save(\"location_trace.html\")"
   ],
   "id": "bbf4b86700384cd8",
   "outputs": [],
   "execution_count": 41
  },
  {
   "metadata": {},
   "cell_type": "code",
   "outputs": [],
   "execution_count": null,
   "source": "",
   "id": "cb0ea584c87c7085"
  }
 ],
 "metadata": {
  "kernelspec": {
   "display_name": "Python 3",
   "language": "python",
   "name": "python3"
  },
  "language_info": {
   "codemirror_mode": {
    "name": "ipython",
    "version": 2
   },
   "file_extension": ".py",
   "mimetype": "text/x-python",
   "name": "python",
   "nbconvert_exporter": "python",
   "pygments_lexer": "ipython2",
   "version": "2.7.6"
  }
 },
 "nbformat": 4,
 "nbformat_minor": 5
}

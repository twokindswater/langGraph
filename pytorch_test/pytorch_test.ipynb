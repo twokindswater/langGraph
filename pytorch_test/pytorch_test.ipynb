{
 "cells": [
  {
   "cell_type": "code",
   "id": "initial_id",
   "metadata": {
    "collapsed": true,
    "ExecuteTime": {
     "end_time": "2024-11-01T05:11:41.846523Z",
     "start_time": "2024-11-01T05:11:36.193625Z"
    }
   },
   "source": [
    "import torch\n",
    "import numpy as np"
   ],
   "outputs": [],
   "execution_count": 1
  },
  {
   "metadata": {
    "ExecuteTime": {
     "end_time": "2024-11-01T05:12:48.126439Z",
     "start_time": "2024-11-01T05:12:48.123806Z"
    }
   },
   "cell_type": "code",
   "source": [
    "data = [[1, 2], [3, 4]]\n",
    "data\n"
   ],
   "id": "f06d5c4c1310f72",
   "outputs": [
    {
     "data": {
      "text/plain": [
       "[[1, 2], [3, 4]]"
      ]
     },
     "execution_count": 3,
     "metadata": {},
     "output_type": "execute_result"
    }
   ],
   "execution_count": 3
  },
  {
   "metadata": {
    "ExecuteTime": {
     "end_time": "2024-11-01T05:12:49.748763Z",
     "start_time": "2024-11-01T05:12:49.745586Z"
    }
   },
   "cell_type": "code",
   "source": [
    "x_data = torch.tensor(data)\n",
    "x_data"
   ],
   "id": "234615206faa9dee",
   "outputs": [
    {
     "data": {
      "text/plain": [
       "tensor([[1, 2],\n",
       "        [3, 4]])"
      ]
     },
     "execution_count": 4,
     "metadata": {},
     "output_type": "execute_result"
    }
   ],
   "execution_count": 4
  },
  {
   "metadata": {
    "ExecuteTime": {
     "end_time": "2024-11-01T05:13:13.170415Z",
     "start_time": "2024-11-01T05:13:13.144745Z"
    }
   },
   "cell_type": "code",
   "source": [
    "np_array = np.array(data)\n",
    "np_array"
   ],
   "id": "6b221dcd7e8e5d64",
   "outputs": [
    {
     "data": {
      "text/plain": [
       "array([[1, 2],\n",
       "       [3, 4]])"
      ]
     },
     "execution_count": 5,
     "metadata": {},
     "output_type": "execute_result"
    }
   ],
   "execution_count": 5
  },
  {
   "metadata": {
    "ExecuteTime": {
     "end_time": "2024-11-01T05:13:29.137299Z",
     "start_time": "2024-11-01T05:13:29.134581Z"
    }
   },
   "cell_type": "code",
   "source": [
    "x_np = torch.from_numpy(np_array)\n",
    "x_np"
   ],
   "id": "6cfb31388bdbe0c8",
   "outputs": [
    {
     "data": {
      "text/plain": [
       "tensor([[1, 2],\n",
       "        [3, 4]])"
      ]
     },
     "execution_count": 6,
     "metadata": {},
     "output_type": "execute_result"
    }
   ],
   "execution_count": 6
  },
  {
   "metadata": {
    "ExecuteTime": {
     "end_time": "2024-11-01T05:20:07.611374Z",
     "start_time": "2024-11-01T05:20:07.608195Z"
    }
   },
   "cell_type": "code",
   "source": [
    "x_ones = torch.ones_like(x_data)\n",
    "print(f\"Ones Tensor: \\n {x_ones} \\n\")\n",
    "\n",
    "x_rand = torch.rand_like(x_data, dtype=torch.float)\n",
    "print(f\"Random Tensor: \\n {x_rand} \\n\")"
   ],
   "id": "dd5ee764ba4c3f59",
   "outputs": [
    {
     "name": "stdout",
     "output_type": "stream",
     "text": [
      "Ones Tensor: \n",
      " tensor([[1, 1],\n",
      "        [1, 1]]) \n",
      "\n",
      "Random Tensor: \n",
      " tensor([[0.5106, 0.7902],\n",
      "        [0.4726, 0.4938]]) \n",
      "\n"
     ]
    }
   ],
   "execution_count": 14
  },
  {
   "metadata": {
    "ExecuteTime": {
     "end_time": "2024-11-01T05:20:37.632016Z",
     "start_time": "2024-11-01T05:20:37.628149Z"
    }
   },
   "cell_type": "code",
   "source": [
    "shape = (2, 3,)\n",
    "rand_tensor = torch.rand(shape)\n",
    "ones_tensor = torch.ones(shape)\n",
    "zeros_tensor = torch.zeros(shape)\n",
    "\n",
    "print(f\"Random Tensor: \\n {rand_tensor} \\n\")\n",
    "print(f\"Ones Tensor: \\n {ones_tensor} \\n\")\n",
    "print(f\"Zeros Tensor: \\n {zeros_tensor}\")"
   ],
   "id": "2db6140583c9229c",
   "outputs": [
    {
     "name": "stdout",
     "output_type": "stream",
     "text": [
      "Random Tensor: \n",
      " tensor([[0.7577, 0.4732, 0.8235],\n",
      "        [0.0394, 0.9597, 0.7662]]) \n",
      "\n",
      "Ones Tensor: \n",
      " tensor([[1., 1., 1.],\n",
      "        [1., 1., 1.]]) \n",
      "\n",
      "Zeros Tensor: \n",
      " tensor([[0., 0., 0.],\n",
      "        [0., 0., 0.]])\n"
     ]
    }
   ],
   "execution_count": 15
  },
  {
   "metadata": {
    "ExecuteTime": {
     "end_time": "2024-11-01T05:22:27.684258Z",
     "start_time": "2024-11-01T05:22:27.681084Z"
    }
   },
   "cell_type": "code",
   "source": [
    "tensor = torch.rand(3, 4)\n",
    "print(f\"tensor: {tensor}\")\n",
    "print(f\"Shape of tensor: {tensor.shape}\")\n",
    "print(f\"Datatype of tensor: {tensor.dtype}\")\n",
    "print(f\"Device tensor is stored on: {tensor.device}\")"
   ],
   "id": "9b6d8892760b47bd",
   "outputs": [
    {
     "name": "stdout",
     "output_type": "stream",
     "text": [
      "tensor: tensor([[0.8987, 0.2706, 0.2849, 0.2859],\n",
      "        [0.9790, 0.3002, 0.0500, 0.6576],\n",
      "        [0.5809, 0.2662, 0.9813, 0.8345]])\n",
      "Shape of tensor: torch.Size([3, 4])\n",
      "Datatype of tensor: torch.float32\n",
      "Device tensor is stored on: cpu\n"
     ]
    }
   ],
   "execution_count": 16
  },
  {
   "metadata": {
    "ExecuteTime": {
     "end_time": "2024-11-01T05:23:19.616706Z",
     "start_time": "2024-11-01T05:23:19.542928Z"
    }
   },
   "cell_type": "code",
   "source": [
    "# GPU가 존재하면 텐서를 이동합니다\n",
    "if torch.cuda.is_available():\n",
    "  tensor = tensor.to('cuda')\n",
    "  print(f\"Device tensor is stored on: {tensor.device}\")"
   ],
   "id": "22a667e089f70261",
   "outputs": [
    {
     "name": "stderr",
     "output_type": "stream",
     "text": [
      "/home/js/anaconda3/envs/langGraph/lib/python3.11/site-packages/torch/cuda/__init__.py:128: UserWarning: CUDA initialization: Unexpected error from cudaGetDeviceCount(). Did you run some cuda functions before calling NumCudaDevices() that might have already set an error? Error 804: forward compatibility was attempted on non supported HW (Triggered internally at ../c10/cuda/CUDAFunctions.cpp:108.)\n",
      "  return torch._C._cuda_getDeviceCount() > 0\n"
     ]
    }
   ],
   "execution_count": 17
  },
  {
   "metadata": {
    "ExecuteTime": {
     "end_time": "2024-11-01T05:30:08.904313Z",
     "start_time": "2024-11-01T05:30:08.901019Z"
    }
   },
   "cell_type": "code",
   "source": [
    "tensor = torch.ones(4, 4)\n",
    "tensor[:,1] = 2\n",
    "tensor[2,:] = 3\n",
    "print(tensor)\n",
    "print(f\"tensor.shape: {tensor.shape}\")"
   ],
   "id": "22cd8bb449934670",
   "outputs": [
    {
     "name": "stdout",
     "output_type": "stream",
     "text": [
      "tensor([[1., 2., 1., 1.],\n",
      "        [1., 2., 1., 1.],\n",
      "        [3., 3., 3., 3.],\n",
      "        [1., 2., 1., 1.]])\n",
      "tensor.shape: torch.Size([4, 4])\n"
     ]
    }
   ],
   "execution_count": 33
  },
  {
   "metadata": {
    "ExecuteTime": {
     "end_time": "2024-11-01T05:29:31.950638Z",
     "start_time": "2024-11-01T05:29:31.946698Z"
    }
   },
   "cell_type": "code",
   "source": [
    "t1 = torch.cat([tensor, tensor, tensor], dim=1)\n",
    "print(t1)\n",
    "print(f\"t1.shape: {t1.shape}\")"
   ],
   "id": "67d2cafcfd2031a3",
   "outputs": [
    {
     "name": "stdout",
     "output_type": "stream",
     "text": [
      "tensor([[1., 2., 1., 1., 1., 2., 1., 1., 1., 2., 1., 1.],\n",
      "        [1., 2., 1., 1., 1., 2., 1., 1., 1., 2., 1., 1.],\n",
      "        [1., 2., 1., 1., 1., 2., 1., 1., 1., 2., 1., 1.],\n",
      "        [1., 2., 1., 1., 1., 2., 1., 1., 1., 2., 1., 1.]])\n",
      "t1.shape: torch.Size([4, 12])\n"
     ]
    }
   ],
   "execution_count": 30
  },
  {
   "metadata": {
    "ExecuteTime": {
     "end_time": "2024-11-01T05:29:33.508950Z",
     "start_time": "2024-11-01T05:29:33.505511Z"
    }
   },
   "cell_type": "code",
   "source": [
    "t0 = torch.cat([tensor, tensor, tensor], dim=0)\n",
    "print(t0)\n",
    "print(f\"t0.shape: {t0.shape}\")"
   ],
   "id": "18782e430ff8fdc",
   "outputs": [
    {
     "name": "stdout",
     "output_type": "stream",
     "text": [
      "tensor([[1., 2., 1., 1.],\n",
      "        [1., 2., 1., 1.],\n",
      "        [1., 2., 1., 1.],\n",
      "        [1., 2., 1., 1.],\n",
      "        [1., 2., 1., 1.],\n",
      "        [1., 2., 1., 1.],\n",
      "        [1., 2., 1., 1.],\n",
      "        [1., 2., 1., 1.],\n",
      "        [1., 2., 1., 1.],\n",
      "        [1., 2., 1., 1.],\n",
      "        [1., 2., 1., 1.],\n",
      "        [1., 2., 1., 1.]])\n",
      "t0.shape: torch.Size([12, 4])\n"
     ]
    }
   ],
   "execution_count": 31
  },
  {
   "metadata": {
    "ExecuteTime": {
     "end_time": "2024-11-01T05:30:19.936628Z",
     "start_time": "2024-11-01T05:30:19.933046Z"
    }
   },
   "cell_type": "code",
   "source": [
    "# 요소별 곱(element-wise product)을 계산합니다\n",
    "print(f\"tensor.mul(tensor) \\n {tensor.mul(tensor)} \\n\")\n",
    "# 다른 문법:\n",
    "print(f\"tensor * tensor \\n {tensor * tensor}\")"
   ],
   "id": "4c81c426b06447a5",
   "outputs": [
    {
     "name": "stdout",
     "output_type": "stream",
     "text": [
      "tensor.mul(tensor) \n",
      " tensor([[1., 4., 1., 1.],\n",
      "        [1., 4., 1., 1.],\n",
      "        [9., 9., 9., 9.],\n",
      "        [1., 4., 1., 1.]]) \n",
      "\n",
      "tensor * tensor \n",
      " tensor([[1., 4., 1., 1.],\n",
      "        [1., 4., 1., 1.],\n",
      "        [9., 9., 9., 9.],\n",
      "        [1., 4., 1., 1.]])\n"
     ]
    }
   ],
   "execution_count": 34
  },
  {
   "metadata": {
    "ExecuteTime": {
     "end_time": "2024-11-01T05:31:50.127309Z",
     "start_time": "2024-11-01T05:31:50.123721Z"
    }
   },
   "cell_type": "code",
   "source": [
    "tensor = torch.ones(4, 4)\n",
    "tensor[:,1] = 0\n",
    "tensor"
   ],
   "id": "b0467bea791388c0",
   "outputs": [
    {
     "data": {
      "text/plain": [
       "tensor([[1., 0., 1., 1.],\n",
       "        [1., 0., 1., 1.],\n",
       "        [1., 0., 1., 1.],\n",
       "        [1., 0., 1., 1.]])"
      ]
     },
     "execution_count": 37,
     "metadata": {},
     "output_type": "execute_result"
    }
   ],
   "execution_count": 37
  },
  {
   "metadata": {
    "ExecuteTime": {
     "end_time": "2024-11-01T05:34:39.113715Z",
     "start_time": "2024-11-01T05:34:39.110558Z"
    }
   },
   "cell_type": "code",
   "source": [
    "print(f\"tensor.matmul(tensor.T) \\n {tensor.matmul(tensor)} \\n\")\n",
    "# 다른 문법:\n",
    "print(f\"tensor @ tensor.T \\n {tensor @ tensor.T}\")"
   ],
   "id": "b9c223f5a2a63ede",
   "outputs": [
    {
     "name": "stdout",
     "output_type": "stream",
     "text": [
      "tensor.matmul(tensor.T) \n",
      " tensor([[3., 0., 3., 3.],\n",
      "        [3., 0., 3., 3.],\n",
      "        [3., 0., 3., 3.],\n",
      "        [3., 0., 3., 3.]]) \n",
      "\n",
      "tensor @ tensor.T \n",
      " tensor([[3., 3., 3., 3.],\n",
      "        [3., 3., 3., 3.],\n",
      "        [3., 3., 3., 3.],\n",
      "        [3., 3., 3., 3.]])\n"
     ]
    }
   ],
   "execution_count": 39
  },
  {
   "metadata": {
    "ExecuteTime": {
     "end_time": "2024-11-01T05:48:22.468613Z",
     "start_time": "2024-11-01T05:48:22.465405Z"
    }
   },
   "cell_type": "code",
   "source": [
    "t = torch.ones(5)\n",
    "print(f\"t: {t}\")\n",
    "n = t.numpy()\n",
    "print(f\"n: {n}\")"
   ],
   "id": "979f7692d7104ae5",
   "outputs": [
    {
     "name": "stdout",
     "output_type": "stream",
     "text": [
      "t: tensor([1., 1., 1., 1., 1.])\n",
      "n: [1. 1. 1. 1. 1.]\n"
     ]
    }
   ],
   "execution_count": 48
  },
  {
   "metadata": {
    "ExecuteTime": {
     "end_time": "2024-11-01T05:48:32.583022Z",
     "start_time": "2024-11-01T05:48:32.579845Z"
    }
   },
   "cell_type": "code",
   "source": "t.add(1)",
   "id": "6108517dbb1b020a",
   "outputs": [
    {
     "data": {
      "text/plain": [
       "tensor([2., 2., 2., 2., 2.])"
      ]
     },
     "execution_count": 49,
     "metadata": {},
     "output_type": "execute_result"
    }
   ],
   "execution_count": 49
  },
  {
   "metadata": {
    "ExecuteTime": {
     "end_time": "2024-11-01T05:48:34.229511Z",
     "start_time": "2024-11-01T05:48:34.226592Z"
    }
   },
   "cell_type": "code",
   "source": "n",
   "id": "9920427c5ea33101",
   "outputs": [
    {
     "data": {
      "text/plain": [
       "array([1., 1., 1., 1., 1.], dtype=float32)"
      ]
     },
     "execution_count": 50,
     "metadata": {},
     "output_type": "execute_result"
    }
   ],
   "execution_count": 50
  },
  {
   "metadata": {
    "ExecuteTime": {
     "end_time": "2024-11-01T05:48:53.640337Z",
     "start_time": "2024-11-01T05:48:53.637460Z"
    }
   },
   "cell_type": "code",
   "source": "t.add_(1)",
   "id": "490f5638c068fbf0",
   "outputs": [
    {
     "data": {
      "text/plain": [
       "tensor([2., 2., 2., 2., 2.])"
      ]
     },
     "execution_count": 51,
     "metadata": {},
     "output_type": "execute_result"
    }
   ],
   "execution_count": 51
  },
  {
   "metadata": {
    "ExecuteTime": {
     "end_time": "2024-11-01T05:48:55.265116Z",
     "start_time": "2024-11-01T05:48:55.262448Z"
    }
   },
   "cell_type": "code",
   "source": "n  ",
   "id": "2bf076dac38bc0a0",
   "outputs": [
    {
     "data": {
      "text/plain": [
       "array([2., 2., 2., 2., 2.], dtype=float32)"
      ]
     },
     "execution_count": 52,
     "metadata": {},
     "output_type": "execute_result"
    }
   ],
   "execution_count": 52
  },
  {
   "metadata": {
    "ExecuteTime": {
     "end_time": "2024-11-01T05:49:22.072481Z",
     "start_time": "2024-11-01T05:49:22.069129Z"
    }
   },
   "cell_type": "code",
   "source": [
    "n = np.ones(5)\n",
    "n"
   ],
   "id": "4affd45b7d49b29",
   "outputs": [
    {
     "data": {
      "text/plain": [
       "array([1., 1., 1., 1., 1.])"
      ]
     },
     "execution_count": 54,
     "metadata": {},
     "output_type": "execute_result"
    }
   ],
   "execution_count": 54
  },
  {
   "metadata": {
    "ExecuteTime": {
     "end_time": "2024-11-01T05:49:52.007660Z",
     "start_time": "2024-11-01T05:49:52.004659Z"
    }
   },
   "cell_type": "code",
   "source": [
    "t = torch.from_numpy(n)\n",
    "t"
   ],
   "id": "7af9d8a4b7abe21b",
   "outputs": [
    {
     "data": {
      "text/plain": [
       "tensor([1., 1., 1., 1., 1.], dtype=torch.float64)"
      ]
     },
     "execution_count": 55,
     "metadata": {},
     "output_type": "execute_result"
    }
   ],
   "execution_count": 55
  },
  {
   "metadata": {
    "ExecuteTime": {
     "end_time": "2024-11-01T05:50:20.672104Z",
     "start_time": "2024-11-01T05:50:20.669098Z"
    }
   },
   "cell_type": "code",
   "source": [
    "np.add(n, 1, out=n)\n",
    "print(f\"n: {n}\")\n",
    "print(f\"t: {t}\")"
   ],
   "id": "1e0dc3f05824d150",
   "outputs": [
    {
     "name": "stdout",
     "output_type": "stream",
     "text": [
      "n: [2. 2. 2. 2. 2.]\n",
      "t: tensor([2., 2., 2., 2., 2.], dtype=torch.float64)\n"
     ]
    }
   ],
   "execution_count": 56
  },
  {
   "metadata": {},
   "cell_type": "code",
   "outputs": [],
   "execution_count": null,
   "source": "",
   "id": "84290c3711cec485"
  }
 ],
 "metadata": {
  "kernelspec": {
   "display_name": "Python 3",
   "language": "python",
   "name": "python3"
  },
  "language_info": {
   "codemirror_mode": {
    "name": "ipython",
    "version": 2
   },
   "file_extension": ".py",
   "mimetype": "text/x-python",
   "name": "python",
   "nbconvert_exporter": "python",
   "pygments_lexer": "ipython2",
   "version": "2.7.6"
  }
 },
 "nbformat": 4,
 "nbformat_minor": 5
}

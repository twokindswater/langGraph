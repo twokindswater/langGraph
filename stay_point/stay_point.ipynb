{
 "cells": [
  {
   "cell_type": "code",
   "id": "initial_id",
   "metadata": {
    "collapsed": true,
    "ExecuteTime": {
     "end_time": "2024-10-21T07:40:57.534389Z",
     "start_time": "2024-10-21T07:40:57.531805Z"
    }
   },
   "source": "routes = [\"a\",\"b\",\"c\",\"d\",\"e\",\"f\"]",
   "outputs": [],
   "execution_count": 3
  },
  {
   "metadata": {
    "ExecuteTime": {
     "end_time": "2024-10-19T05:36:36.847409Z",
     "start_time": "2024-10-19T05:36:36.844601Z"
    }
   },
   "cell_type": "code",
   "source": [
    "routes_pop = routes.pop(1)\n",
    "routes_pop"
   ],
   "id": "b04f75ea0ffa9fac",
   "outputs": [
    {
     "data": {
      "text/plain": [
       "'b'"
      ]
     },
     "execution_count": 7,
     "metadata": {},
     "output_type": "execute_result"
    }
   ],
   "execution_count": 7
  },
  {
   "metadata": {
    "ExecuteTime": {
     "end_time": "2024-10-19T05:36:38.472989Z",
     "start_time": "2024-10-19T05:36:38.469899Z"
    }
   },
   "cell_type": "code",
   "source": "routes",
   "id": "bed8cc56863c9349",
   "outputs": [
    {
     "data": {
      "text/plain": [
       "['a', 'c']"
      ]
     },
     "execution_count": 8,
     "metadata": {},
     "output_type": "execute_result"
    }
   ],
   "execution_count": 8
  },
  {
   "metadata": {
    "ExecuteTime": {
     "end_time": "2024-10-21T07:40:59.421036Z",
     "start_time": "2024-10-21T07:40:59.418120Z"
    }
   },
   "cell_type": "code",
   "source": "routes[:1]",
   "id": "39df17f137fd5bf3",
   "outputs": [
    {
     "data": {
      "text/plain": [
       "['a']"
      ]
     },
     "execution_count": 4,
     "metadata": {},
     "output_type": "execute_result"
    }
   ],
   "execution_count": 4
  },
  {
   "metadata": {
    "ExecuteTime": {
     "end_time": "2024-10-21T07:41:07.517301Z",
     "start_time": "2024-10-21T07:41:07.514707Z"
    }
   },
   "cell_type": "code",
   "source": "routes[:3]",
   "id": "716d97abb7d0159c",
   "outputs": [
    {
     "data": {
      "text/plain": [
       "['a', 'b', 'c']"
      ]
     },
     "execution_count": 5,
     "metadata": {},
     "output_type": "execute_result"
    }
   ],
   "execution_count": 5
  },
  {
   "metadata": {
    "ExecuteTime": {
     "end_time": "2024-10-21T07:41:17.394402Z",
     "start_time": "2024-10-21T07:41:17.391575Z"
    }
   },
   "cell_type": "code",
   "source": "routes[:10]",
   "id": "345edc20f68e0f36",
   "outputs": [
    {
     "data": {
      "text/plain": [
       "['a', 'b', 'c', 'd', 'e', 'f']"
      ]
     },
     "execution_count": 6,
     "metadata": {},
     "output_type": "execute_result"
    }
   ],
   "execution_count": 6
  },
  {
   "metadata": {},
   "cell_type": "code",
   "outputs": [],
   "execution_count": null,
   "source": "",
   "id": "32be169632acdd60"
  }
 ],
 "metadata": {
  "kernelspec": {
   "display_name": "Python 3",
   "language": "python",
   "name": "python3"
  },
  "language_info": {
   "codemirror_mode": {
    "name": "ipython",
    "version": 2
   },
   "file_extension": ".py",
   "mimetype": "text/x-python",
   "name": "python",
   "nbconvert_exporter": "python",
   "pygments_lexer": "ipython2",
   "version": "2.7.6"
  }
 },
 "nbformat": 4,
 "nbformat_minor": 5
}
